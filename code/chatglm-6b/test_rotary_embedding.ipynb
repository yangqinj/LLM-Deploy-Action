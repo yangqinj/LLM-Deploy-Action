{
 "cells": [
  {
   "cell_type": "code",
   "execution_count": 1,
   "id": "fc869abe-7989-4e83-89fb-0a4a82a75193",
   "metadata": {},
   "outputs": [],
   "source": [
    "import torch"
   ]
  },
  {
   "cell_type": "code",
   "execution_count": 2,
   "id": "83046d81-538f-41c0-89f4-473101e61572",
   "metadata": {},
   "outputs": [],
   "source": [
    "dim = 4\n",
    "seq_len = 3 # total sequence length\n",
    "base = 10000\n",
    "position_id = 1 # position index of current token"
   ]
  },
  {
   "cell_type": "code",
   "execution_count": 7,
   "id": "00dc4f2c-b5b6-4a53-ac13-a515e12770ab",
   "metadata": {},
   "outputs": [
    {
     "data": {
      "text/plain": [
       "(tensor([1.0000, 0.0100]), torch.Size([2]))"
      ]
     },
     "execution_count": 7,
     "metadata": {},
     "output_type": "execute_result"
    }
   ],
   "source": [
    "inv_freq = 1. / (base ** (torch.arange(0, dim, 2).float() / dim))\n",
    "inv_freq, inv_freq.shape # dim/2"
   ]
  },
  {
   "cell_type": "code",
   "execution_count": 8,
   "id": "f873efc3-78cc-4a43-bb8a-0f47f18244b1",
   "metadata": {},
   "outputs": [
    {
     "data": {
      "text/plain": [
       "(tensor([0., 1., 2.]), torch.Size([3]))"
      ]
     },
     "execution_count": 8,
     "metadata": {},
     "output_type": "execute_result"
    }
   ],
   "source": [
    "t = torch.arange(seq_len, dtype=inv_freq.dtype)\n",
    "t, t.shape"
   ]
  },
  {
   "cell_type": "code",
   "execution_count": 9,
   "id": "ca96bd02-2431-4390-84a5-1e9ab2c08b60",
   "metadata": {},
   "outputs": [
    {
     "data": {
      "text/plain": [
       "(tensor([[0.0000, 0.0000],\n",
       "         [1.0000, 0.0100],\n",
       "         [2.0000, 0.0200]]),\n",
       " torch.Size([3, 2]))"
      ]
     },
     "execution_count": 9,
     "metadata": {},
     "output_type": "execute_result"
    }
   ],
   "source": [
    "freqs = torch.einsum('i,j->ij', t, inv_freq)\n",
    "freqs, freqs.shape # (seq_len, dim/2)"
   ]
  },
  {
   "cell_type": "markdown",
   "id": "03e70936-9ba0-4bae-891b-5010a3b77b68",
   "metadata": {},
   "source": [
    "## ChatGLM-6B"
   ]
  },
  {
   "cell_type": "code",
   "execution_count": 10,
   "id": "a9470f59-aac6-49c2-b9ef-4c283fdec199",
   "metadata": {},
   "outputs": [
    {
     "data": {
      "text/plain": [
       "(tensor([[0.0000, 0.0000, 0.0000, 0.0000],\n",
       "         [1.0000, 0.0100, 1.0000, 0.0100],\n",
       "         [2.0000, 0.0200, 2.0000, 0.0200]]),\n",
       " torch.Size([3, 4]))"
      ]
     },
     "execution_count": 10,
     "metadata": {},
     "output_type": "execute_result"
    }
   ],
   "source": [
    "emb = torch.cat((freqs, freqs), dim=-1)\n",
    "emb, emb.shape  # theta_0, theta_1, theta_0, theta_1"
   ]
  },
  {
   "cell_type": "code",
   "execution_count": 11,
   "id": "5187651e-17dd-4a9d-be3c-79d46b6e228f",
   "metadata": {},
   "outputs": [],
   "source": [
    "cos_cached = emb.cos()[:, None, :]\n",
    "sin_cached = emb.sin()[:, None, :]\n",
    "cos, sin = cos_cached[:seq_len, ...], sin_cached[:seq_len, ...]"
   ]
  },
  {
   "cell_type": "code",
   "execution_count": 12,
   "id": "7f4b81bf-6aab-4bf3-a174-63f04fd80cd8",
   "metadata": {},
   "outputs": [
    {
     "data": {
      "text/plain": [
       "(tensor([[[ 1.0000,  1.0000,  1.0000,  1.0000]],\n",
       " \n",
       "         [[ 0.5403,  0.9999,  0.5403,  0.9999]],\n",
       " \n",
       "         [[-0.4161,  0.9998, -0.4161,  0.9998]]]),\n",
       " torch.Size([3, 1, 4]))"
      ]
     },
     "execution_count": 12,
     "metadata": {},
     "output_type": "execute_result"
    }
   ],
   "source": [
    "cos, cos.shape"
   ]
  },
  {
   "cell_type": "code",
   "execution_count": 13,
   "id": "f1900777-585c-4248-a7fb-78a5387f5b18",
   "metadata": {},
   "outputs": [],
   "source": [
    "import torch.nn.functional as F"
   ]
  },
  {
   "cell_type": "code",
   "execution_count": 50,
   "id": "fb1e7e59-f3b1-449e-a67a-ee0ec65a3488",
   "metadata": {},
   "outputs": [
    {
     "data": {
      "text/plain": [
       "(tensor([[[[0.5403, 0.9999, 0.5403, 0.9999]]]]), torch.Size([1, 1, 1, 4]))"
      ]
     },
     "execution_count": 50,
     "metadata": {},
     "output_type": "execute_result"
    }
   ],
   "source": [
    "# cos_m_theta for token in give position\n",
    "position_id = torch.LongTensor([[1]]) # the second position\n",
    "cos_q = F.embedding(position_id, cos.squeeze(1)).unsqueeze(2) # [sq, b, 1, hn]\n",
    "cos_q, cos_q.shape  # pick up the second index"
   ]
  },
  {
   "cell_type": "code",
   "execution_count": 51,
   "id": "7d18565a-2eb6-48a6-b91a-a241bfc8404a",
   "metadata": {},
   "outputs": [
    {
     "data": {
      "text/plain": [
       "(tensor([[[[0.8415, 0.0100, 0.8415, 0.0100]]]]), torch.Size([1, 1, 1, 4]))"
      ]
     },
     "execution_count": 51,
     "metadata": {},
     "output_type": "execute_result"
    }
   ],
   "source": [
    "sin_q = F.embedding(position_id, sin.squeeze(1)).unsqueeze(2)\n",
    "sin_q, sin_q.shape"
   ]
  },
  {
   "cell_type": "code",
   "execution_count": 52,
   "id": "406738c8-652b-4be7-8e1a-faf908aee170",
   "metadata": {},
   "outputs": [],
   "source": [
    "def rotate_half(x):\n",
    "    x1, x2 = x[..., :x.shape[-1] // 2], x[..., x.shape[-1] // 2:]\n",
    "    return torch.cat((-x2, x1), dim=x1.ndim - 1)  # dim=-1 triggers a bug in earlier torch versions\n"
   ]
  },
  {
   "cell_type": "code",
   "execution_count": 60,
   "id": "7f5d11ef-b356-4df2-a786-c6a56c90b84d",
   "metadata": {},
   "outputs": [
    {
     "data": {
      "text/plain": [
       "(tensor([[[[0, 1, 2, 3]]]]), torch.Size([1, 1, 1, 4]))"
      ]
     },
     "execution_count": 60,
     "metadata": {},
     "output_type": "execute_result"
    }
   ],
   "source": [
    "q = torch.arange(dim).view(1, 1, 1, dim) # seq_len, batch_size, heads, dim\n",
    "q, q.shape"
   ]
  },
  {
   "cell_type": "code",
   "execution_count": 61,
   "id": "f802cf46-4a74-45a2-addb-89972e394a46",
   "metadata": {},
   "outputs": [
    {
     "data": {
      "text/plain": [
       "(tensor([[[[-2, -3,  0,  1]]]]), torch.Size([1, 1, 1, 4]))"
      ]
     },
     "execution_count": 61,
     "metadata": {},
     "output_type": "execute_result"
    }
   ],
   "source": [
    "# q_0, q_1, q_2, q_3 -> -q_2, -q_4, q_0, q_1\n",
    "rh_q = rotate_half(q)\n",
    "rh_q, rh_q.shape"
   ]
  },
  {
   "cell_type": "code",
   "execution_count": 62,
   "id": "dbdf760d-708e-4612-abb7-1b69bd506d97",
   "metadata": {},
   "outputs": [
    {
     "data": {
      "text/plain": [
       "(tensor([[[[-1.6829,  0.9700,  1.0806,  3.0098]]]]), torch.Size([1, 1, 1, 4]))"
      ]
     },
     "execution_count": 62,
     "metadata": {},
     "output_type": "execute_result"
    }
   ],
   "source": [
    "qm = (q * cos_q) + (rh_q * sin_q)\n",
    "qm, qm.shape"
   ]
  },
  {
   "cell_type": "code",
   "execution_count": null,
   "id": "9a3ff7f4-52ca-46bb-ba0d-0c0e3198a8f6",
   "metadata": {},
   "outputs": [],
   "source": []
  },
  {
   "cell_type": "markdown",
   "id": "c420964f-0fa4-410f-bb26-9cecd3fdde50",
   "metadata": {},
   "source": [
    "## rotate matrix"
   ]
  },
  {
   "cell_type": "code",
   "execution_count": 66,
   "id": "78d7e601-728a-4002-a827-10ad75913467",
   "metadata": {},
   "outputs": [
    {
     "data": {
      "text/plain": [
       "(tensor([[1.0000, 0.0100]]), torch.Size([1, 2]))"
      ]
     },
     "execution_count": 66,
     "metadata": {},
     "output_type": "execute_result"
    }
   ],
   "source": [
    "mtheta = freqs[position_id].squeeze(0) # theta_0, theta_1\n",
    "mtheta, mtheta.shape"
   ]
  },
  {
   "cell_type": "code",
   "execution_count": 69,
   "id": "ae7f8625-89c0-4a1d-b31c-32e2764728ab",
   "metadata": {},
   "outputs": [
    {
     "data": {
      "text/plain": [
       "(tensor([[0.5403, 0.9999]]), torch.Size([1, 2]))"
      ]
     },
     "execution_count": 69,
     "metadata": {},
     "output_type": "execute_result"
    }
   ],
   "source": [
    "cos_mtheta = mtheta.cos()\n",
    "sin_mtheta = mtheta.sin()\n",
    "cos_mtheta, cos_mtheta.shape # cos_m_theta_0, cos_m_theta_1"
   ]
  },
  {
   "cell_type": "code",
   "execution_count": 71,
   "id": "33f59041-f6bf-4e93-8265-cf1abc3edcb5",
   "metadata": {},
   "outputs": [
    {
     "data": {
      "text/plain": [
       "(tensor([[ 0.5403, -0.8415,  0.0000,  0.0000],\n",
       "         [ 0.8415,  0.5403,  0.0000,  0.0000],\n",
       "         [ 0.0000,  0.0000,  0.9999, -0.0100],\n",
       "         [ 0.0000,  0.0000,  0.0100,  0.9999]]),\n",
       " torch.Size([4, 4]))"
      ]
     },
     "execution_count": 71,
     "metadata": {},
     "output_type": "execute_result"
    }
   ],
   "source": [
    "rmatrix = torch.Tensor([[cos_mtheta[0][0], -sin_mtheta[0][0], 0, 0], [sin_mtheta[0][0], cos_mtheta[0][0], 0, 0],\n",
    "                        [0, 0, cos_mtheta[0][1], -sin_mtheta[0][1]], [0, 0, sin_mtheta[0][1], cos_mtheta[0][1]]])\n",
    "rmatrix, rmatrix.shape"
   ]
  },
  {
   "cell_type": "code",
   "execution_count": 73,
   "id": "844d8ebc-b968-4389-84d2-cce1b7531b3c",
   "metadata": {},
   "outputs": [
    {
     "data": {
      "text/plain": [
       "torch.Size([1, 1, 1, 4])"
      ]
     },
     "execution_count": 73,
     "metadata": {},
     "output_type": "execute_result"
    }
   ],
   "source": [
    "q.shape"
   ]
  },
  {
   "cell_type": "code",
   "execution_count": 74,
   "id": "13fc7205-bbfa-4e0e-834c-f1538d020d91",
   "metadata": {},
   "outputs": [
    {
     "data": {
      "text/plain": [
       "(tensor([[-0.8415],\n",
       "         [ 0.5403],\n",
       "         [ 1.9699],\n",
       "         [ 3.0198]]),\n",
       " torch.Size([4, 1]))"
      ]
     },
     "execution_count": 74,
     "metadata": {},
     "output_type": "execute_result"
    }
   ],
   "source": [
    "qm2 = torch.mm(rmatrix, q.view(dim, 1).float())\n",
    "qm2, qm2.shape"
   ]
  },
  {
   "cell_type": "code",
   "execution_count": 76,
   "id": "93273b4c-fa91-488c-bddc-59ea5559bc82",
   "metadata": {},
   "outputs": [
    {
     "data": {
      "text/plain": [
       "tensor([[[[-1.6829,  0.9700,  1.0806,  3.0098]]]])"
      ]
     },
     "execution_count": 76,
     "metadata": {},
     "output_type": "execute_result"
    }
   ],
   "source": [
    "qm"
   ]
  },
  {
   "cell_type": "markdown",
   "id": "c00cd600-73da-4eab-ac20-9b2407ac3b55",
   "metadata": {},
   "source": [
    "## ChatGLM2-6B"
   ]
  },
  {
   "cell_type": "code",
   "execution_count": 77,
   "id": "be526a39-4f0f-4f78-9b64-1e62b7d98d80",
   "metadata": {},
   "outputs": [
    {
     "data": {
      "text/plain": [
       "(tensor([[[ 1.0000,  0.0000],\n",
       "          [ 1.0000,  0.0000]],\n",
       " \n",
       "         [[ 0.5403,  0.8415],\n",
       "          [ 0.9999,  0.0100]],\n",
       " \n",
       "         [[-0.4161,  0.9093],\n",
       "          [ 0.9998,  0.0200]]]),\n",
       " torch.Size([3, 2, 2]))"
      ]
     },
     "execution_count": 77,
     "metadata": {},
     "output_type": "execute_result"
    }
   ],
   "source": [
    "cache = torch.stack([torch.cos(freqs), torch.sin(freqs)], dim=-1)\n",
    "cache, cache.shape # cos_mtheta_0, cos_mtheta1, sin_mtehta_0, sin_mtheta_1"
   ]
  },
  {
   "cell_type": "code",
   "execution_count": 79,
   "id": "32f97a21-8408-419b-bceb-6c0c4189dc07",
   "metadata": {},
   "outputs": [
    {
     "data": {
      "text/plain": [
       "(tensor([[[[0.5403, 0.8415],\n",
       "           [0.9999, 0.0100]]]]),\n",
       " torch.Size([1, 1, 2, 2]))"
      ]
     },
     "execution_count": 79,
     "metadata": {},
     "output_type": "execute_result"
    }
   ],
   "source": [
    "rope_cache = cache[position_id] # pick up position 1\n",
    "rope_cache, rope_cache.shape"
   ]
  },
  {
   "cell_type": "code",
   "execution_count": 80,
   "id": "8d128adb-c4d6-424e-a2cd-2f0716338fc4",
   "metadata": {},
   "outputs": [
    {
     "data": {
      "text/plain": [
       "(4,\n",
       " tensor([[[[[0, 1],\n",
       "            [2, 3]]]]]),\n",
       " torch.Size([1, 1, 1, 2, 2]))"
      ]
     },
     "execution_count": 80,
     "metadata": {},
     "output_type": "execute_result"
    }
   ],
   "source": [
    "rot_dim = rope_cache.shape[-2] * 2\n",
    "qshaped = q.reshape(1, -1, 1, rot_dim // 2, 2)\n",
    "rot_dim, qshaped, qshaped.shape"
   ]
  },
  {
   "cell_type": "code",
   "execution_count": null,
   "id": "3f90de53-253a-4e70-942a-59afb1bf9a6e",
   "metadata": {},
   "outputs": [],
   "source": [
    "rope_cache = ropbe_cache.view(1, -1, 1, qshaped.size(3), 2)"
   ]
  },
  {
   "cell_type": "code",
   "execution_count": 85,
   "id": "81c7a306-3333-4c9d-8187-7d6d08ea6939",
   "metadata": {},
   "outputs": [],
   "source": [
    "qm3 = torch.stack(\n",
    "        [\n",
    "            qshaped[..., 0] * rope_cache[..., 0] - qshaped[..., 1] * rope_cache[..., 1],\n",
    "            qshaped[..., 1] * rope_cache[..., 0] + qshaped[..., 0] * rope_cache[..., 1],\n",
    "        ],\n",
    "        -1,\n",
    "    )\n",
    "qm3 = x_out2.flatten(3)\n"
   ]
  },
  {
   "cell_type": "code",
   "execution_count": 86,
   "id": "b547e036-824b-4ef9-b53a-2a7aa1ac072a",
   "metadata": {},
   "outputs": [
    {
     "data": {
      "text/plain": [
       "(tensor([[[[-0.8415,  0.5403,  1.9699,  3.0198]]]]), torch.Size([1, 1, 1, 4]))"
      ]
     },
     "execution_count": 86,
     "metadata": {},
     "output_type": "execute_result"
    }
   ],
   "source": [
    "qm3, qm3.shape"
   ]
  },
  {
   "cell_type": "code",
   "execution_count": 87,
   "id": "a0f3fba1-654d-4e9a-9fc2-60af1226df04",
   "metadata": {},
   "outputs": [
    {
     "data": {
      "text/plain": [
       "tensor([[-0.8415],\n",
       "        [ 0.5403],\n",
       "        [ 1.9699],\n",
       "        [ 3.0198]])"
      ]
     },
     "execution_count": 87,
     "metadata": {},
     "output_type": "execute_result"
    }
   ],
   "source": [
    "qm2"
   ]
  },
  {
   "cell_type": "markdown",
   "id": "b1a62b73-e072-4908-a6e4-1aaa30ed56e9",
   "metadata": {},
   "source": [
    "## LIaMA： 复数域"
   ]
  },
  {
   "cell_type": "code",
   "execution_count": 89,
   "id": "6bc08db2-ea44-4a37-9283-275ae979fdf5",
   "metadata": {},
   "outputs": [
    {
     "data": {
      "text/plain": [
       "(tensor([[ 1.0000+0.0000j,  1.0000+0.0000j],\n",
       "         [ 0.5403+0.8415j,  0.9999+0.0100j],\n",
       "         [-0.4161+0.9093j,  0.9998+0.0200j]]),\n",
       " tensor([[ 1.0000+0.0000j,  1.0000+0.0000j],\n",
       "         [ 0.5403+0.8415j,  0.9999+0.0100j],\n",
       "         [-0.4161+0.9093j,  0.9998+0.0200j]]))"
      ]
     },
     "execution_count": 89,
     "metadata": {},
     "output_type": "execute_result"
    }
   ],
   "source": [
    "freqs_cis = torch.polar(torch.ones_like(freqs), freqs)  # cos_mthta_0 + sin_mtheta_0*i, cos_mtheta_1, sin_mtheta_1*i\n",
    "freqs_cis, freqs_cis"
   ]
  },
  {
   "cell_type": "code",
   "execution_count": 91,
   "id": "ba835621-e19f-4bda-be03-ea6855cc1106",
   "metadata": {},
   "outputs": [
    {
     "data": {
      "text/plain": [
       "(tensor([[[[0, 1],\n",
       "           [2, 3]]]]),\n",
       " torch.Size([1, 1, 2, 2]))"
      ]
     },
     "execution_count": 91,
     "metadata": {},
     "output_type": "execute_result"
    }
   ],
   "source": [
    "q_ = q.reshape(*q.shape[:-1], -1, 2).reshape(1, 1, 2, 2)\n",
    "q_, q_.shape"
   ]
  },
  {
   "cell_type": "code",
   "execution_count": 92,
   "id": "1a2fd2b4-bc36-42ec-b907-2b77f8a3aa4b",
   "metadata": {},
   "outputs": [
    {
     "data": {
      "text/plain": [
       "(tensor([[[0.+1.j, 2.+3.j]]]), torch.Size([1, 1, 2]))"
      ]
     },
     "execution_count": 92,
     "metadata": {},
     "output_type": "execute_result"
    }
   ],
   "source": [
    "q_complex_ = torch.view_as_complex(q_.float())\n",
    "q_complex_, q_complex_.shape"
   ]
  },
  {
   "cell_type": "code",
   "execution_count": 93,
   "id": "ed60b14e-ec07-4b54-9849-3ea8d2749907",
   "metadata": {},
   "outputs": [
    {
     "data": {
      "text/plain": [
       "(tensor([[[ 0.0000,  1.0000,  2.0000,  3.0000],\n",
       "          [-0.8415,  0.5403,  1.9699,  3.0198],\n",
       "          [-0.9093, -0.4161,  1.9396,  3.0394]]]),\n",
       " torch.Size([1, 3, 4]))"
      ]
     },
     "execution_count": 93,
     "metadata": {},
     "output_type": "execute_result"
    }
   ],
   "source": [
    "qm4 = torch.view_as_real(q_complex_ * freqs_cis).flatten(2)\n",
    "qm4, qm4.shape"
   ]
  },
  {
   "cell_type": "code",
   "execution_count": 94,
   "id": "38abce6e-1fc6-458f-b2fb-3c3ccec89639",
   "metadata": {},
   "outputs": [
    {
     "data": {
      "text/plain": [
       "tensor([[[[-0.8415,  0.5403,  1.9699,  3.0198]]]])"
      ]
     },
     "execution_count": 94,
     "metadata": {},
     "output_type": "execute_result"
    }
   ],
   "source": [
    "qm3"
   ]
  },
  {
   "cell_type": "code",
   "execution_count": null,
   "id": "eb232ebb-7d42-4ca4-9d3d-172a31fc29d2",
   "metadata": {},
   "outputs": [],
   "source": []
  },
  {
   "cell_type": "code",
   "execution_count": null,
   "id": "e98bcff4-fe71-4aba-96e8-055ed868b466",
   "metadata": {},
   "outputs": [],
   "source": []
  }
 ],
 "metadata": {
  "kernelspec": {
   "display_name": "Python 3 (ipykernel)",
   "language": "python",
   "name": "python3"
  },
  "language_info": {
   "codemirror_mode": {
    "name": "ipython",
    "version": 3
   },
   "file_extension": ".py",
   "mimetype": "text/x-python",
   "name": "python",
   "nbconvert_exporter": "python",
   "pygments_lexer": "ipython3",
   "version": "3.8.18"
  }
 },
 "nbformat": 4,
 "nbformat_minor": 5
}
